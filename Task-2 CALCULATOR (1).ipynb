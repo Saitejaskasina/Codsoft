{
 "cells": [
  {
   "cell_type": "code",
   "execution_count": null,
   "id": "1b3eb260-b912-46ed-9b97-8618319d72bd",
   "metadata": {},
   "outputs": [],
   "source": [
    "def calculator():\n",
    "    # Prompt user for inputs\n",
    "    num1 = float(input(\"Enter the first number: \"))\n",
    "    num2 = float(input(\"Enter the second number: \"))\n",
    "    operation = input(\"Choose an operation (+, -, *, /): \")\n",
    "\n",
    "    # Perform the calculation\n",
    "    if operation == '+':\n",
    "        result = num1 + num2\n",
    "    elif operation == '-':\n",
    "        result = num1 - num2\n",
    "    elif operation == '*':\n",
    "        result = num1 * num2\n",
    "    elif operation == '/':\n",
    "        if num2 != 0:\n",
    "            result = num1 / num2\n",
    "        else:\n",
    "            return \"Error: Division by zero is not allowed.\"\n",
    "    else:\n",
    "        return \"Error: Invalid operation.\"\n",
    "\n",
    "    # Display the result\n",
    "    return f\"The result is: {result}\"\n",
    "\n",
    "# Call the function\n",
    "print(calculator())\n"
   ]
  },
  {
   "cell_type": "code",
   "execution_count": null,
   "id": "e8236b0a-5d62-4002-8561-a551517eae2b",
   "metadata": {},
   "outputs": [],
   "source": []
  }
 ],
 "metadata": {
  "kernelspec": {
   "display_name": "Python 3 (ipykernel)",
   "language": "python",
   "name": "python3"
  },
  "language_info": {
   "codemirror_mode": {
    "name": "ipython",
    "version": 3
   },
   "file_extension": ".py",
   "mimetype": "text/x-python",
   "name": "python",
   "nbconvert_exporter": "python",
   "pygments_lexer": "ipython3",
   "version": "3.12.4"
  }
 },
 "nbformat": 4,
 "nbformat_minor": 5
}
