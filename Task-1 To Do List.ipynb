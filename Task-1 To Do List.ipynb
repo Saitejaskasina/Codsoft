{
 "cells": [
  {
   "cell_type": "code",
   "execution_count": 1,
   "id": "2386e513-87b7-4d2e-8f6d-420acc6beaac",
   "metadata": {},
   "outputs": [
    {
     "name": "stdout",
     "output_type": "stream",
     "text": [
      "\n",
      "--- To-Do List Menu ---\n",
      "1. View tasks\n",
      "2. Add a task\n",
      "3. Remove a task\n",
      "4. Mark a task as complete\n",
      "5. Exit\n"
     ]
    },
    {
     "name": "stdin",
     "output_type": "stream",
     "text": [
      "\n",
      "Choose an option (1-5):  1\n"
     ]
    },
    {
     "name": "stdout",
     "output_type": "stream",
     "text": [
      "\n",
      "No tasks in the to-do list.\n",
      "\n",
      "--- To-Do List Menu ---\n",
      "1. View tasks\n",
      "2. Add a task\n",
      "3. Remove a task\n",
      "4. Mark a task as complete\n",
      "5. Exit\n"
     ]
    },
    {
     "name": "stdin",
     "output_type": "stream",
     "text": [
      "\n",
      "Choose an option (1-5):  5\n"
     ]
    },
    {
     "name": "stdout",
     "output_type": "stream",
     "text": [
      "\n",
      "Goodbye!\n"
     ]
    }
   ],
   "source": []
  },
  {
   "cell_type": "code",
   "execution_count": 5,
   "id": "b5db4129-0780-48d7-a3d8-d72f3021edae",
   "metadata": {},
   "outputs": [],
   "source": [
    "import tkinter as tk\n",
    "from tkinter import messagebox\n",
    "\n",
    "class ToDoListApp:\n",
    "    def __init__(self, root):\n",
    "        self.root = root\n",
    "        self.root.title(\"To-Do List\")\n",
    "        \n",
    "        self.tasks = []\n",
    "        \n",
    "        # Task Entry\n",
    "        self.task_entry = tk.Entry(root, width=40)\n",
    "        self.task_entry.grid(row=0, column=0, padx=10, pady=10)\n",
    "        \n",
    "        # Add Task Button\n",
    "        self.add_button = tk.Button(root, text=\"Add Task\", command=self.add_task)\n",
    "        self.add_button.grid(row=0, column=1, padx=10, pady=10)\n",
    "        \n",
    "        # Task Listbox\n",
    "        self.task_listbox = tk.Listbox(root, width=50, height=15, selectmode=tk.SINGLE)\n",
    "        self.task_listbox.grid(row=1, column=0, columnspan=2, padx=10, pady=10)\n",
    "        \n",
    "        # Buttons\n",
    "        self.remove_button = tk.Button(root, text=\"Remove Task\", command=self.remove_task)\n",
    "        self.remove_button.grid(row=2, column=0, pady=5)\n",
    "        \n",
    "        self.complete_button = tk.Button(root, text=\"Mark Complete\", command=self.mark_complete)\n",
    "        self.complete_button.grid(row=2, column=1, pady=5)\n",
    "        \n",
    "    def add_task(self):\n",
    "        task = self.task_entry.get().strip()\n",
    "        if task:\n",
    "            self.tasks.append((task, False))\n",
    "            self.update_task_listbox()\n",
    "            self.task_entry.delete(0, tk.END)\n",
    "        else:\n",
    "            messagebox.showwarning(\"Warning\", \"Task cannot be empty!\")\n",
    "    \n",
    "    def remove_task(self):\n",
    "        try:\n",
    "            selected_index = self.task_listbox.curselection()[0]\n",
    "            self.tasks.pop(selected_index)\n",
    "            self.update_task_listbox()\n",
    "        except IndexError:\n",
    "            messagebox.showwarning(\"Warning\", \"No task selected!\")\n",
    "    \n",
    "    def mark_complete(self):\n",
    "        try:\n",
    "            selected_index = self.task_listbox.curselection()[0]\n",
    "            task, _ = self.tasks[selected_index]\n",
    "            self.tasks[selected_index] = (task, True)\n",
    "            self.update_task_listbox()\n",
    "        except IndexError:\n",
    "            messagebox.showwarning(\"Warning\", \"No task selected!\")\n",
    "    \n",
    "    def update_task_listbox(self):\n",
    "        self.task_listbox.delete(0, tk.END)\n",
    "        for task, completed in self.tasks:\n",
    "            status = \"✓\" if completed else \"✗\"\n",
    "            self.task_listbox.insert(tk.END, f\"{task} [{status}]\")\n",
    "\n",
    "# Run the application\n",
    "if __name__ == \"__main__\":\n",
    "    root = tk.Tk()\n",
    "    app = ToDoListApp(root)\n",
    "    root.mainloop()\n"
   ]
  },
  {
   "cell_type": "code",
   "execution_count": null,
   "id": "3cf72eb8-b6f6-4664-aadb-53d884276709",
   "metadata": {},
   "outputs": [],
   "source": []
  }
 ],
 "metadata": {
  "kernelspec": {
   "display_name": "Python 3 (ipykernel)",
   "language": "python",
   "name": "python3"
  },
  "language_info": {
   "codemirror_mode": {
    "name": "ipython",
    "version": 3
   },
   "file_extension": ".py",
   "mimetype": "text/x-python",
   "name": "python",
   "nbconvert_exporter": "python",
   "pygments_lexer": "ipython3",
   "version": "3.12.4"
  }
 },
 "nbformat": 4,
 "nbformat_minor": 5
}
